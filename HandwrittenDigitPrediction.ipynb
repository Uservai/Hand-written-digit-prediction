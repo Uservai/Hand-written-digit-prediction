{
  "nbformat": 4,
  "nbformat_minor": 0,
  "metadata": {
    "colab": {
      "provenance": []
    },
    "kernelspec": {
      "name": "python3",
      "display_name": "Python 3"
    },
    "language_info": {
      "name": "python"
    }
  },
  "cells": [
    {
      "cell_type": "markdown",
      "source": [
        "# **Title of Project**"
      ],
      "metadata": {
        "id": "dqZ-nhxiganh"
      }
    },
    {
      "cell_type": "markdown",
      "source": [
        "# Hand Written Digit Prediction"
      ],
      "metadata": {
        "id": "ivd3nfKkbd5w"
      }
    },
    {
      "cell_type": "markdown",
      "source": [
        "-------------"
      ],
      "metadata": {
        "id": "gScHkw6jjrLo"
      }
    },
    {
      "cell_type": "markdown",
      "source": [
        "## **Import Library**"
      ],
      "metadata": {
        "id": "r7GrZzX0iTlV"
      }
    },
    {
      "cell_type": "code",
      "source": [
        "import pandas as pd"
      ],
      "metadata": {
        "id": "UkK6NH9DiW-X"
      },
      "execution_count": null,
      "outputs": []
    },
    {
      "cell_type": "code",
      "source": [
        "import numpy as np"
      ],
      "metadata": {
        "id": "A31hhBAWb1Sa"
      },
      "execution_count": null,
      "outputs": []
    },
    {
      "cell_type": "code",
      "source": [
        "import matplotlib.pyplot as plt\n"
      ],
      "metadata": {
        "id": "Z17RB6FscKc5"
      },
      "execution_count": null,
      "outputs": []
    },
    {
      "cell_type": "markdown",
      "source": [
        "## **Import Data**"
      ],
      "metadata": {
        "id": "9lHPQj1XiOUc"
      }
    },
    {
      "cell_type": "code",
      "source": [
        "from sklearn.datasets import load_digits"
      ],
      "metadata": {
        "id": "yAu3ntv-b0f5"
      },
      "execution_count": null,
      "outputs": []
    },
    {
      "cell_type": "code",
      "source": [
        "df = load_digits()"
      ],
      "metadata": {
        "id": "zcU1fdnGho6M"
      },
      "execution_count": null,
      "outputs": []
    },
    {
      "cell_type": "code",
      "source": [
        "_, axes = plt.subplots(nrows=1, ncols=4, figsize=(10, 3))\n",
        "for ax, image, label in zip(axes, df.images, df.target):\n",
        "  ax.set_axis_off()\n",
        "  ax.imshow(image, cmap=plt.cm.gray_r, interpolation=\"nearest\")\n",
        "  ax.set_title(\"Training: %i\" % label)"
      ],
      "metadata": {
        "colab": {
          "base_uri": "https://localhost:8080/",
          "height": 227
        },
        "id": "LMvZlGLecV4D",
        "outputId": "68219ed4-f49e-46bc-c078-5f59cf060a7e"
      },
      "execution_count": null,
      "outputs": [
        {
          "output_type": "display_data",
          "data": {
            "text/plain": [
              "<Figure size 1000x300 with 4 Axes>"
            ],
            "image/png": "[encoded data removed]"
          },
          "metadata": {}
        }
      ]
    },
    {
      "cell_type": "markdown",
      "source": [
        "## **Data Preprocessing**"
      ],
      "metadata": {
        "id": "UqfyPOCYiiww"
      }
    },
    {
      "cell_type": "markdown",
      "source": [
        "![IMG-20240107-WA0002.jpg](data:image/jpeg;base64,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)"
      ],
      "metadata": {
        "id": "Xas5X17ruTgK"
      }
    },
    {
      "cell_type": "markdown",
      "source": [
        "![IMG-20240107-WA0003.jpg](data:image/jpeg;base64,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)"
      ],
      "metadata": {
        "id": "YR6aDUNfuvi2"
      }
    },
    {
      "cell_type": "code",
      "source": [
        "df.images.shape"
      ],
      "metadata": {
        "colab": {
          "base_uri": "https://localhost:8080/"
        },
        "id": "lLukhpF6u3aZ",
        "outputId": "8d8e4f73-182b-42b4-9881-be20c996a0d1"
      },
      "execution_count": null,
      "outputs": [
        {
          "output_type": "execute_result",
          "data": {
            "text/plain": [
              "(1797, 8, 8)"
            ]
          },
          "metadata": {},
          "execution_count": 8
        }
      ]
    },
    {
      "cell_type": "code",
      "source": [
        "df.images[0]"
      ],
      "metadata": {
        "colab": {
          "base_uri": "https://localhost:8080/"
        },
        "id": "kC4nEOrxvYBM",
        "outputId": "d6f250e1-c662-48f2-b92b-79d242b4cc33"
      },
      "execution_count": null,
      "outputs": [
        {
          "output_type": "execute_result",
          "data": {
            "text/plain": [
              "array([[ 0.,  0.,  5., 13.,  9.,  1.,  0.,  0.],\n",
              "       [ 0.,  0., 13., 15., 10., 15.,  5.,  0.],\n",
              "       [ 0.,  3., 15.,  2.,  0., 11.,  8.,  0.],\n",
              "       [ 0.,  4., 12.,  0.,  0.,  8.,  8.,  0.],\n",
              "       [ 0.,  5.,  8.,  0.,  0.,  9.,  8.,  0.],\n",
              "       [ 0.,  4., 11.,  0.,  1., 12.,  7.,  0.],\n",
              "       [ 0.,  2., 14.,  5., 10., 12.,  0.,  0.],\n",
              "       [ 0.,  0.,  6., 13., 10.,  0.,  0.,  0.]])"
            ]
          },
          "metadata": {},
          "execution_count": 9
        }
      ]
    },
    {
      "cell_type": "code",
      "source": [
        "df.images[0].shape"
      ],
      "metadata": {
        "colab": {
          "base_uri": "https://localhost:8080/"
        },
        "id": "cB0fU8snvgB0",
        "outputId": "ee5ac0eb-da47-4e09-cb00-07c763e6a3b4"
      },
      "execution_count": null,
      "outputs": [
        {
          "output_type": "execute_result",
          "data": {
            "text/plain": [
              "(8, 8)"
            ]
          },
          "metadata": {},
          "execution_count": 10
        }
      ]
    },
    {
      "cell_type": "code",
      "source": [
        "len(df.images)"
      ],
      "metadata": {
        "colab": {
          "base_uri": "https://localhost:8080/"
        },
        "id": "IRX375jSvlwP",
        "outputId": "2798da57-48d3-4e52-a911-71199f8f91f0"
      },
      "execution_count": null,
      "outputs": [
        {
          "output_type": "execute_result",
          "data": {
            "text/plain": [
              "1797"
            ]
          },
          "metadata": {},
          "execution_count": 11
        }
      ]
    },
    {
      "cell_type": "code",
      "source": [
        "n_samples = len(df.images)\n",
        "data = df.images.reshape(n_samples, -1)"
      ],
      "metadata": {
        "id": "i5r-IaISvp_Q"
      },
      "execution_count": null,
      "outputs": []
    },
    {
      "cell_type": "code",
      "source": [
        "data[0]"
      ],
      "metadata": {
        "colab": {
          "base_uri": "https://localhost:8080/"
        },
        "id": "opmoa3Miv53z",
        "outputId": "69c2fea3-3cbe-4baa-fd84-a6828149f43e"
      },
      "execution_count": null,
      "outputs": [
        {
          "output_type": "execute_result",
          "data": {
            "text/plain": [
              "array([ 0.,  0.,  5., 13.,  9.,  1.,  0.,  0.,  0.,  0., 13., 15., 10.,\n",
              "       15.,  5.,  0.,  0.,  3., 15.,  2.,  0., 11.,  8.,  0.,  0.,  4.,\n",
              "       12.,  0.,  0.,  8.,  8.,  0.,  0.,  5.,  8.,  0.,  0.,  9.,  8.,\n",
              "        0.,  0.,  4., 11.,  0.,  1., 12.,  7.,  0.,  0.,  2., 14.,  5.,\n",
              "       10., 12.,  0.,  0.,  0.,  0.,  6., 13., 10.,  0.,  0.,  0.])"
            ]
          },
          "metadata": {},
          "execution_count": 13
        }
      ]
    },
    {
      "cell_type": "code",
      "source": [
        "data[0].shape"
      ],
      "metadata": {
        "colab": {
          "base_uri": "https://localhost:8080/"
        },
        "id": "VvUeojgJv-z8",
        "outputId": "39b39c3c-5fc4-4713-add3-870551696e28"
      },
      "execution_count": null,
      "outputs": [
        {
          "output_type": "execute_result",
          "data": {
            "text/plain": [
              "(64,)"
            ]
          },
          "metadata": {},
          "execution_count": 14
        }
      ]
    },
    {
      "cell_type": "code",
      "source": [
        "data.shape"
      ],
      "metadata": {
        "colab": {
          "base_uri": "https://localhost:8080/"
        },
        "id": "EH8IWp6WwEHB",
        "outputId": "52f0aa95-faf6-4ad6-f7a6-fb543381219e"
      },
      "execution_count": null,
      "outputs": [
        {
          "output_type": "execute_result",
          "data": {
            "text/plain": [
              "(1797, 64)"
            ]
          },
          "metadata": {},
          "execution_count": 15
        }
      ]
    },
    {
      "cell_type": "markdown",
      "source": [
        "## **Scaling Image Data**"
      ],
      "metadata": {
        "id": "2jXJpdAuiwYW"
      }
    },
    {
      "cell_type": "code",
      "source": [
        "data.min()"
      ],
      "metadata": {
        "colab": {
          "base_uri": "https://localhost:8080/"
        },
        "id": "Ya5oyUgOwfv7",
        "outputId": "3b0d0626-a7f8-4855-da5f-12d6f3095ab1"
      },
      "execution_count": null,
      "outputs": [
        {
          "output_type": "execute_result",
          "data": {
            "text/plain": [
              "0.0"
            ]
          },
          "metadata": {},
          "execution_count": 16
        }
      ]
    },
    {
      "cell_type": "code",
      "source": [
        "data.max()"
      ],
      "metadata": {
        "colab": {
          "base_uri": "https://localhost:8080/"
        },
        "id": "7wsl-TJZwjSh",
        "outputId": "6fd2753e-a33d-437e-e03e-311b0ad35063"
      },
      "execution_count": null,
      "outputs": [
        {
          "output_type": "execute_result",
          "data": {
            "text/plain": [
              "16.0"
            ]
          },
          "metadata": {},
          "execution_count": 17
        }
      ]
    },
    {
      "cell_type": "code",
      "source": [
        "data = data/16"
      ],
      "metadata": {
        "id": "3fZ0HhngwnO0"
      },
      "execution_count": null,
      "outputs": []
    },
    {
      "cell_type": "code",
      "source": [
        "data.min()"
      ],
      "metadata": {
        "colab": {
          "base_uri": "https://localhost:8080/"
        },
        "id": "8VtOmhYowsi7",
        "outputId": "09aeba23-edf1-4520-93b3-e7aba7c4761c"
      },
      "execution_count": null,
      "outputs": [
        {
          "output_type": "execute_result",
          "data": {
            "text/plain": [
              "0.0"
            ]
          },
          "metadata": {},
          "execution_count": 19
        }
      ]
    },
    {
      "cell_type": "code",
      "source": [
        "data.max()"
      ],
      "metadata": {
        "colab": {
          "base_uri": "https://localhost:8080/"
        },
        "id": "SBP7abuMwvzy",
        "outputId": "a049dd60-1f59-4efd-b9bc-b9dafa54406c"
      },
      "execution_count": null,
      "outputs": [
        {
          "output_type": "execute_result",
          "data": {
            "text/plain": [
              "1.0"
            ]
          },
          "metadata": {},
          "execution_count": 20
        }
      ]
    },
    {
      "cell_type": "code",
      "source": [
        "data[0]"
      ],
      "metadata": {
        "colab": {
          "base_uri": "https://localhost:8080/"
        },
        "id": "G1WBeuzUw0ir",
        "outputId": "4efbc2be-4bb4-4099-e640-ccc292f5cc1d"
      },
      "execution_count": null,
      "outputs": [
        {
          "output_type": "execute_result",
          "data": {
            "text/plain": [
              "array([0.    , 0.    , 0.3125, 0.8125, 0.5625, 0.0625, 0.    , 0.    ,\n",
              "       0.    , 0.    , 0.8125, 0.9375, 0.625 , 0.9375, 0.3125, 0.    ,\n",
              "       0.    , 0.1875, 0.9375, 0.125 , 0.    , 0.6875, 0.5   , 0.    ,\n",
              "       0.    , 0.25  , 0.75  , 0.    , 0.    , 0.5   , 0.5   , 0.    ,\n",
              "       0.    , 0.3125, 0.5   , 0.    , 0.    , 0.5625, 0.5   , 0.    ,\n",
              "       0.    , 0.25  , 0.6875, 0.    , 0.0625, 0.75  , 0.4375, 0.    ,\n",
              "       0.    , 0.125 , 0.875 , 0.3125, 0.625 , 0.75  , 0.    , 0.    ,\n",
              "       0.    , 0.    , 0.375 , 0.8125, 0.625 , 0.    , 0.    , 0.    ])"
            ]
          },
          "metadata": {},
          "execution_count": 21
        }
      ]
    },
    {
      "cell_type": "markdown",
      "source": [
        "## **Train Test Split**"
      ],
      "metadata": {
        "id": "90_0q_Pbi658"
      }
    },
    {
      "cell_type": "code",
      "source": [
        "from sklearn.model_selection import train_test_split"
      ],
      "metadata": {
        "id": "5xZ5EXk9w4PT"
      },
      "execution_count": null,
      "outputs": []
    },
    {
      "cell_type": "code",
      "source": [
        "X_train, X_test, y_train, y_test = train_test_split(data, df.target, test_size = 0.3)"
      ],
      "metadata": {
        "id": "Yn1XLam7xDG1"
      },
      "execution_count": null,
      "outputs": []
    },
    {
      "cell_type": "code",
      "source": [
        "X_train.shape, X_test.shape, y_train.shape, y_test.shape"
      ],
      "metadata": {
        "colab": {
          "base_uri": "https://localhost:8080/"
        },
        "id": "fVLmjZjdxY0G",
        "outputId": "3947e79e-7304-4c60-c13e-b655da707486"
      },
      "execution_count": null,
      "outputs": [
        {
          "output_type": "execute_result",
          "data": {
            "text/plain": [
              "((1257, 64), (540, 64), (1257,), (540,))"
            ]
          },
          "metadata": {},
          "execution_count": 24
        }
      ]
    },
    {
      "cell_type": "markdown",
      "source": [
        "## **Random Forest Model**"
      ],
      "metadata": {
        "id": "cIhyseNria7W"
      }
    },
    {
      "cell_type": "code",
      "source": [
        "from sklearn.ensemble import RandomForestClassifier"
      ],
      "metadata": {
        "id": "e9e4LRQOxs6O"
      },
      "execution_count": null,
      "outputs": []
    },
    {
      "cell_type": "code",
      "source": [
        "rf = RandomForestClassifier()"
      ],
      "metadata": {
        "id": "-GQpaAsXx3j-"
      },
      "execution_count": null,
      "outputs": []
    },
    {
      "cell_type": "code",
      "source": [
        "rf.fit(X_train, y_train)"
      ],
      "metadata": {
        "colab": {
          "base_uri": "https://localhost:8080/",
          "height": 74
        },
        "id": "GBFWo0vox77V",
        "outputId": "5a6ea205-9fb2-4463-9015-36fe56c7727a"
      },
      "execution_count": null,
      "outputs": [
        {
          "output_type": "execute_result",
          "data": {
            "text/plain": [
              "RandomForestClassifier()"
            ],
            "text/html": [
              "<style>#sk-container-id-1 {color: black;background-color: white;}#sk-container-id-1 pre{padding: 0;}#sk-container-id-1 div.sk-toggleable {background-color: white;}#sk-container-id-1 label.sk-toggleable__label {cursor: pointer;display: block;width: 100%;margin-bottom: 0;padding: 0.3em;box-sizing: border-box;text-align: center;}#sk-container-id-1 label.sk-toggleable__label-arrow:before {content: \"▸\";float: left;margin-right: 0.25em;color: #696969;}#sk-container-id-1 label.sk-toggleable__label-arrow:hover:before {color: black;}#sk-container-id-1 div.sk-estimator:hover label.sk-toggleable__label-arrow:before {color: black;}#sk-container-id-1 div.sk-toggleable__content {max-height: 0;max-width: 0;overflow: hidden;text-align: left;background-color: #f0f8ff;}#sk-container-id-1 div.sk-toggleable__content pre {margin: 0.2em;color: black;border-radius: 0.25em;background-color: #f0f8ff;}#sk-container-id-1 input.sk-toggleable__control:checked~div.sk-toggleable__content {max-height: 200px;max-width: 100%;overflow: auto;}#sk-container-id-1 input.sk-toggleable__control:checked~label.sk-toggleable__label-arrow:before {content: \"▾\";}#sk-container-id-1 div.sk-estimator input.sk-toggleable__control:checked~label.sk-toggleable__label {background-color: #d4ebff;}#sk-container-id-1 div.sk-label input.sk-toggleable__control:checked~label.sk-toggleable__label {background-color: #d4ebff;}#sk-container-id-1 input.sk-hidden--visually {border: 0;clip: rect(1px 1px 1px 1px);clip: rect(1px, 1px, 1px, 1px);height: 1px;margin: -1px;overflow: hidden;padding: 0;position: absolute;width: 1px;}#sk-container-id-1 div.sk-estimator {font-family: monospace;background-color: #f0f8ff;border: 1px dotted black;border-radius: 0.25em;box-sizing: border-box;margin-bottom: 0.5em;}#sk-container-id-1 div.sk-estimator:hover {background-color: #d4ebff;}#sk-container-id-1 div.sk-parallel-item::after {content: \"\";width: 100%;border-bottom: 1px solid gray;flex-grow: 1;}#sk-container-id-1 div.sk-label:hover label.sk-toggleable__label {background-color: #d4ebff;}#sk-container-id-1 div.sk-serial::before {content: \"\";position: absolute;border-left: 1px solid gray;box-sizing: border-box;top: 0;bottom: 0;left: 50%;z-index: 0;}#sk-container-id-1 div.sk-serial {display: flex;flex-direction: column;align-items: center;background-color: white;padding-right: 0.2em;padding-left: 0.2em;position: relative;}#sk-container-id-1 div.sk-item {position: relative;z-index: 1;}#sk-container-id-1 div.sk-parallel {display: flex;align-items: stretch;justify-content: center;background-color: white;position: relative;}#sk-container-id-1 div.sk-item::before, #sk-container-id-1 div.sk-parallel-item::before {content: \"\";position: absolute;border-left: 1px solid gray;box-sizing: border-box;top: 0;bottom: 0;left: 50%;z-index: -1;}#sk-container-id-1 div.sk-parallel-item {display: flex;flex-direction: column;z-index: 1;position: relative;background-color: white;}#sk-container-id-1 div.sk-parallel-item:first-child::after {align-self: flex-end;width: 50%;}#sk-container-id-1 div.sk-parallel-item:last-child::after {align-self: flex-start;width: 50%;}#sk-container-id-1 div.sk-parallel-item:only-child::after {width: 0;}#sk-container-id-1 div.sk-dashed-wrapped {border: 1px dashed gray;margin: 0 0.4em 0.5em 0.4em;box-sizing: border-box;padding-bottom: 0.4em;background-color: white;}#sk-container-id-1 div.sk-label label {font-family: monospace;font-weight: bold;display: inline-block;line-height: 1.2em;}#sk-container-id-1 div.sk-label-container {text-align: center;}#sk-container-id-1 div.sk-container {/* jupyter's `normalize.less` sets `[hidden] { display: none; }` but bootstrap.min.css set `[hidden] { display: none !important; }` so we also need the `!important` here to be able to override the default hidden behavior on the sphinx rendered scikit-learn.org. See: https://github.com/scikit-learn/scikit-learn/issues/21755 */display: inline-block !important;position: relative;}#sk-container-id-1 div.sk-text-repr-fallback {display: none;}</style><div id=\"sk-container-id-1\" class=\"sk-top-container\"><div class=\"sk-text-repr-fallback\"><pre>RandomForestClassifier()</pre><b>In a Jupyter environment, please rerun this cell to show the HTML representation or trust the notebook. <br />On GitHub, the HTML representation is unable to render, please try loading this page with nbviewer.org.</b></div><div class=\"sk-container\" hidden><div class=\"sk-item\"><div class=\"sk-estimator sk-toggleable\"><input class=\"sk-toggleable__control sk-hidden--visually\" id=\"sk-estimator-id-1\" type=\"checkbox\" checked><label for=\"sk-estimator-id-1\" class=\"sk-toggleable__label sk-toggleable__label-arrow\">RandomForestClassifier</label><div class=\"sk-toggleable__content\"><pre>RandomForestClassifier()</pre></div></div></div></div></div>"
            ]
          },
          "metadata": {},
          "execution_count": 27
        }
      ]
    },
    {
      "cell_type": "markdown",
      "source": [
        "## **Predict Test Data**"
      ],
      "metadata": {
        "id": "vhAwWfG0jFun"
      }
    },
    {
      "cell_type": "code",
      "source": [
        "y_pred = rf.predict(X_test)"
      ],
      "metadata": {
        "id": "dHsPJTXyyH22"
      },
      "execution_count": null,
      "outputs": []
    },
    {
      "cell_type": "code",
      "source": [
        "y_pred"
      ],
      "metadata": {
        "colab": {
          "base_uri": "https://localhost:8080/"
        },
        "id": "H2IWOXZNyTTF",
        "outputId": "24e2f5ad-fe35-4278-a1c5-0875bb167f4c"
      },
      "execution_count": null,
      "outputs": [
        {
          "output_type": "execute_result",
          "data": {
            "text/plain": [
              "array([3, 7, 2, 2, 5, 2, 7, 9, 2, 2, 3, 0, 2, 9, 2, 1, 7, 3, 9, 8, 8, 8,\n",
              "       4, 5, 9, 2, 4, 7, 8, 7, 5, 3, 6, 0, 0, 7, 6, 3, 4, 3, 2, 4, 5, 0,\n",
              "       5, 0, 1, 7, 6, 7, 2, 6, 8, 5, 9, 3, 2, 1, 7, 6, 6, 1, 3, 6, 3, 2,\n",
              "       4, 1, 3, 7, 9, 6, 6, 4, 9, 4, 2, 1, 4, 7, 4, 9, 1, 2, 6, 7, 0, 3,\n",
              "       5, 4, 2, 3, 1, 7, 0, 6, 2, 3, 0, 1, 0, 7, 3, 4, 7, 3, 4, 4, 8, 3,\n",
              "       4, 0, 7, 4, 9, 5, 9, 1, 2, 0, 6, 7, 2, 7, 9, 8, 9, 1, 6, 9, 9, 7,\n",
              "       7, 8, 9, 0, 2, 6, 6, 6, 0, 9, 3, 9, 0, 6, 6, 7, 9, 2, 1, 5, 3, 8,\n",
              "       3, 4, 4, 5, 8, 7, 1, 9, 4, 2, 8, 2, 3, 9, 2, 7, 4, 8, 1, 1, 9, 4,\n",
              "       3, 6, 7, 7, 9, 7, 0, 8, 0, 8, 1, 8, 2, 4, 0, 2, 2, 7, 3, 7, 9, 4,\n",
              "       6, 1, 9, 7, 6, 3, 3, 7, 8, 0, 4, 4, 1, 6, 0, 2, 8, 6, 4, 3, 3, 8,\n",
              "       6, 0, 0, 0, 5, 7, 1, 8, 4, 9, 9, 2, 5, 1, 9, 3, 4, 9, 6, 4, 4, 7,\n",
              "       3, 7, 1, 5, 8, 1, 2, 4, 5, 1, 9, 8, 2, 9, 9, 3, 2, 7, 2, 0, 7, 6,\n",
              "       5, 0, 0, 7, 0, 2, 5, 4, 5, 4, 1, 0, 2, 1, 6, 3, 4, 7, 3, 4, 5, 1,\n",
              "       5, 5, 7, 9, 6, 7, 7, 4, 3, 6, 6, 3, 9, 8, 1, 9, 6, 0, 7, 7, 4, 7,\n",
              "       2, 0, 2, 0, 7, 5, 9, 6, 2, 9, 5, 0, 4, 6, 8, 5, 0, 8, 0, 4, 1, 6,\n",
              "       5, 7, 1, 9, 9, 1, 9, 8, 7, 4, 0, 8, 2, 1, 0, 4, 6, 0, 9, 4, 9, 7,\n",
              "       6, 2, 9, 2, 8, 1, 3, 3, 7, 3, 6, 5, 8, 4, 9, 8, 4, 2, 7, 1, 2, 4,\n",
              "       7, 7, 5, 9, 4, 5, 6, 9, 8, 1, 4, 1, 8, 2, 5, 5, 1, 1, 6, 1, 5, 6,\n",
              "       7, 5, 0, 8, 2, 7, 5, 4, 2, 3, 8, 9, 2, 3, 2, 1, 2, 0, 6, 1, 5, 7,\n",
              "       1, 9, 3, 6, 5, 0, 1, 0, 4, 5, 7, 0, 9, 8, 9, 8, 4, 9, 6, 2, 1, 4,\n",
              "       6, 5, 6, 1, 4, 2, 8, 1, 7, 1, 3, 1, 3, 0, 0, 8, 9, 5, 7, 9, 6, 4,\n",
              "       2, 0, 2, 6, 9, 1, 2, 4, 7, 5, 7, 2, 1, 6, 4, 5, 8, 0, 5, 6, 0, 4,\n",
              "       1, 6, 9, 8, 6, 4, 3, 1, 1, 5, 3, 5, 0, 8, 8, 2, 1, 0, 0, 4, 7, 8,\n",
              "       9, 4, 8, 7, 9, 1, 5, 2, 0, 2, 5, 9, 2, 5, 6, 9, 2, 4, 1, 2, 5, 9,\n",
              "       8, 6, 9, 3, 2, 0, 3, 3, 2, 5, 3, 8])"
            ]
          },
          "metadata": {},
          "execution_count": 29
        }
      ]
    },
    {
      "cell_type": "markdown",
      "source": [
        "## **Model Accuracy**"
      ],
      "metadata": {
        "id": "8AzwG7oLjiQI"
      }
    },
    {
      "cell_type": "code",
      "source": [
        "from sklearn.metrics import confusion_matrix, classification_report"
      ],
      "metadata": {
        "id": "puWE4cQ6ydBL"
      },
      "execution_count": null,
      "outputs": []
    },
    {
      "cell_type": "code",
      "source": [
        "confusion_matrix(y_test, y_pred)"
      ],
      "metadata": {
        "colab": {
          "base_uri": "https://localhost:8080/"
        },
        "id": "toKJiY2lynZ-",
        "outputId": "b6d2b2fb-6023-4c9f-f19b-109123946eb6"
      },
      "execution_count": null,
      "outputs": [
        {
          "output_type": "execute_result",
          "data": {
            "text/plain": [
              "array([[49,  0,  0,  0,  0,  0,  0,  0,  0,  0],\n",
              "       [ 0, 54,  0,  0,  0,  1,  0,  0,  0,  0],\n",
              "       [ 1,  1, 61,  2,  0,  0,  0,  0,  0,  1],\n",
              "       [ 0,  0,  0, 44,  0,  0,  0,  0,  1,  0],\n",
              "       [ 0,  0,  0,  0, 59,  0,  0,  1,  0,  0],\n",
              "       [ 0,  0,  0,  0,  0, 44,  0,  0,  1,  0],\n",
              "       [ 1,  0,  0,  0,  0,  0, 53,  0,  0,  0],\n",
              "       [ 0,  0,  0,  0,  0,  0,  0, 56,  0,  0],\n",
              "       [ 0,  0,  1,  0,  0,  2,  0,  1, 42,  0],\n",
              "       [ 0,  0,  0,  1,  0,  0,  0,  3,  1, 59]])"
            ]
          },
          "metadata": {},
          "execution_count": 31
        }
      ]
    },
    {
      "cell_type": "code",
      "source": [
        "print(classification_report(y_test, y_pred))"
      ],
      "metadata": {
        "colab": {
          "base_uri": "https://localhost:8080/"
        },
        "id": "lyEDQ9QiyvWB",
        "outputId": "7f6e3cb8-060a-4eef-8ea9-3d3de2b8a68b"
      },
      "execution_count": null,
      "outputs": [
        {
          "output_type": "stream",
          "name": "stdout",
          "text": [
            "              precision    recall  f1-score   support\n",
            "\n",
            "           0       0.96      1.00      0.98        49\n",
            "           1       0.98      0.98      0.98        55\n",
            "           2       0.98      0.92      0.95        66\n",
            "           3       0.94      0.98      0.96        45\n",
            "           4       1.00      0.98      0.99        60\n",
            "           5       0.94      0.98      0.96        45\n",
            "           6       1.00      0.98      0.99        54\n",
            "           7       0.92      1.00      0.96        56\n",
            "           8       0.93      0.91      0.92        46\n",
            "           9       0.98      0.92      0.95        64\n",
            "\n",
            "    accuracy                           0.96       540\n",
            "   macro avg       0.96      0.97      0.96       540\n",
            "weighted avg       0.97      0.96      0.96       540\n",
            "\n"
          ]
        }
      ]
    }
  ]
}